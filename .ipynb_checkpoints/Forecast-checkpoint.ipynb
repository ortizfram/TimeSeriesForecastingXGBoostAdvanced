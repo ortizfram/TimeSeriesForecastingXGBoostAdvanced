{
 "cells": [
  {
   "cell_type": "code",
   "execution_count": 2,
   "id": "23d58074-9c42-4dda-a665-bad97fbbdb5c",
   "metadata": {},
   "outputs": [],
   "source": [
    "import pandas as pd\n",
    "import numpy as np\n",
    "import seaborn as sns\n",
    "import matplotlib.pyplot as plt\n",
    "\n",
    "import xgboost as xgb\n",
    "from sklearn.metrics import mean_squared_error\n",
    "color_pal = sns.color_palette()\n",
    "plt.style.use('fivethirtyeight')"
   ]
  },
  {
   "cell_type": "markdown",
   "id": "684faaf3-6e27-48b3-91b6-fe2265e88f4d",
   "metadata": {},
   "source": [
    "# Outline\n",
    "- oulier analysis\n",
    "- forecasting horizon explained\n",
    "- time series cross validation\n",
    "- lag features\n",
    "- predicting future"
   ]
  }
 ],
 "metadata": {
  "kernelspec": {
   "display_name": "Python 3 (ipykernel)",
   "language": "python",
   "name": "python3"
  },
  "language_info": {
   "codemirror_mode": {
    "name": "ipython",
    "version": 3
   },
   "file_extension": ".py",
   "mimetype": "text/x-python",
   "name": "python",
   "nbconvert_exporter": "python",
   "pygments_lexer": "ipython3",
   "version": "3.10.6"
  }
 },
 "nbformat": 4,
 "nbformat_minor": 5
}
